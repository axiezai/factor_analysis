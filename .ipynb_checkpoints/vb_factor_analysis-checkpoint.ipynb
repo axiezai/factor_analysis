{
 "cells": [
  {
   "cell_type": "markdown",
   "metadata": {},
   "source": [
    "Variational Bayes Expectation Maximization (VB-EM algorithm)\n",
    "---\n",
    "\n",
    "Solve the factor analysis model: $$y = a x + v$$\n",
    "\n",
    "Where $y$ is the data, $a$ is the mixing matrix, $x$ is the factors, and $v$ is the noise. "
   ]
  },
  {
   "cell_type": "code",
   "execution_count": null,
   "metadata": {},
   "outputs": [],
   "source": [
    "import numpy as np\n",
    "import matplotlib.pyplot as plt"
   ]
  },
  {
   "cell_type": "code",
   "execution_count": null,
   "metadata": {},
   "outputs": [],
   "source": [
    "## Function for vb-em:\n",
    "def vbfa(y, num_fa, num_it, mixing_matrix = None, noise_precision = None):\n",
    "    num_y = y.shape[0] #data number of sensors\n",
    "    num_t = y.shape[1] #data time samples\n",
    "    \n",
    "    # auto-correlation:\n",
    "    ryy = y*np.transpose(y)\n",
    "    \n",
    "    # initialize SVD:\n",
    "    if mixing_matrix is None:\n",
    "        U, SV, V = np.linalg.svd(ryy/num_t)\n",
    "        D = np.diag(SV)\n",
    "        a = U * np.diag(np.sqrt(D))\n",
    "        npm = np.diag(num_t/np.diag(ryy))\n",
    "    else:\n",
    "        a = mixing_matrix\n",
    "        npm = noise_precision\n",
    "    \n",
    "    # EM iteration:\n",
    "    likelihood = np.zeros([num_it, 1])\n",
    "    psi = np.transpose(a)*npm*a\n",
    "\n",
    "    for i in np.arange(0, num_it):\n",
    "        gam = psi + np.eye(num_fa)\n",
    "        igam = np.linalg.inv(gam)\n",
    "        xbar = igam*np.transpose(a)*npm*y\n",
    "        \n",
    "        ldnpm = np.sum()"
   ]
  }
 ],
 "metadata": {
  "kernelspec": {
   "display_name": "Python 3",
   "language": "python",
   "name": "python3"
  },
  "language_info": {
   "codemirror_mode": {
    "name": "ipython",
    "version": 3
   },
   "file_extension": ".py",
   "mimetype": "text/x-python",
   "name": "python",
   "nbconvert_exporter": "python",
   "pygments_lexer": "ipython3",
   "version": "3.6.8"
  }
 },
 "nbformat": 4,
 "nbformat_minor": 4
}
